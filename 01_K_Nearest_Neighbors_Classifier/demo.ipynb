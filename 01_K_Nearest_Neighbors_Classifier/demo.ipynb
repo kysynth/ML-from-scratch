{
 "cells": [
  {
   "cell_type": "markdown",
   "metadata": {},
   "source": [
    "# Setup"
   ]
  },
  {
   "cell_type": "code",
   "execution_count": 1,
   "metadata": {},
   "outputs": [],
   "source": [
    "from sklearn import datasets\n",
    "from sklearn.model_selection import train_test_split\n",
    "from sklearn.neighbors import KNeighborsClassifier\n",
    "\n",
    "import numpy as np\n",
    "import sys\n",
    "\n",
    "sys.path.append('../')"
   ]
  },
  {
   "cell_type": "code",
   "execution_count": 2,
   "metadata": {},
   "outputs": [],
   "source": [
    "from splearn.neighbors import SimpleKNeighborsClassifier"
   ]
  },
  {
   "cell_type": "markdown",
   "metadata": {},
   "source": [
    "# Dataset"
   ]
  },
  {
   "cell_type": "code",
   "execution_count": 3,
   "metadata": {},
   "outputs": [],
   "source": [
    "iris_dataset = datasets.load_iris()\n",
    "X = iris_dataset['data']\n",
    "y = iris_dataset['target']\n",
    "X_train, X_test, y_train, y_test = train_test_split(X, y, test_size=0.2, random_state=0)"
   ]
  },
  {
   "cell_type": "markdown",
   "metadata": {},
   "source": [
    "# scikit-learn implementation"
   ]
  },
  {
   "cell_type": "code",
   "execution_count": null,
   "metadata": {},
   "outputs": [],
   "source": [
    "sklearn_clf = KNeighborsClassifier(n_neighbors=5)\n",
    "sklearn_clf.fit(X_train, y_train)"
   ]
  },
  {
   "cell_type": "code",
   "execution_count": null,
   "metadata": {},
   "outputs": [],
   "source": [
    "for i in range(30):\n",
    "    predicted_y = sklearn_clf.predict(X_test[i].reshape(1, -1))\n",
    "    print(\"--Examining row %i of test dataset... %s\" % (i, y_test[i] == predicted_y))\n",
    "    print(\"Data:\")\n",
    "    print(X_test[i])\n",
    "    print(\"True label:\")\n",
    "    print(y_test[i])\n",
    "    print(\"Predicted label:\")\n",
    "    print(predicted_y)"
   ]
  },
  {
   "cell_type": "markdown",
   "metadata": {},
   "source": [
    "# Simple Python implementation"
   ]
  },
  {
   "cell_type": "code",
   "execution_count": null,
   "metadata": {},
   "outputs": [],
   "source": [
    "my_clf = SimpleKNeighborsClassifier(n_neighbors=5)\n",
    "my_clf.fit(X_train, y_train)"
   ]
  },
  {
   "cell_type": "code",
   "execution_count": null,
   "metadata": {},
   "outputs": [],
   "source": [
    "for i in range(30):\n",
    "    predicted_y = my_clf.predict(X_test[i].reshape(1, -1))\n",
    "    print(\"--Examining row %i of test dataset... %s\" % (i, y_test[i] == predicted_y))\n",
    "    print(\"Data:\")\n",
    "    print(X_test[i])\n",
    "    print(\"True label:\")\n",
    "    print(y_test[i])\n",
    "    print(\"Predicted label:\")\n",
    "    print(predicted_y)"
   ]
  },
  {
   "cell_type": "markdown",
   "metadata": {},
   "source": [
    "# Do the results agree?"
   ]
  },
  {
   "cell_type": "code",
   "execution_count": 4,
   "metadata": {},
   "outputs": [],
   "source": [
    "sklearn_clf = KNeighborsClassifier(n_neighbors=5)\n",
    "sklearn_clf.fit(X_train, y_train)\n",
    "\n",
    "my_clf = SimpleKNeighborsClassifier(n_neighbors=5)\n",
    "my_clf.fit(X_train, y_train)"
   ]
  },
  {
   "cell_type": "code",
   "execution_count": 5,
   "metadata": {},
   "outputs": [
    {
     "name": "stdout",
     "output_type": "stream",
     "text": [
      "--Examining row 0 of test dataset... [ True]\n",
      "--Examining row 1 of test dataset... [ True]\n",
      "--Examining row 2 of test dataset... [ True]\n",
      "--Examining row 3 of test dataset... [ True]\n",
      "--Examining row 4 of test dataset... [ True]\n",
      "--Examining row 5 of test dataset... [ True]\n",
      "--Examining row 6 of test dataset... [ True]\n",
      "--Examining row 7 of test dataset... [ True]\n",
      "--Examining row 8 of test dataset... [ True]\n",
      "--Examining row 9 of test dataset... [ True]\n",
      "--Examining row 10 of test dataset... [ True]\n",
      "--Examining row 11 of test dataset... [ True]\n",
      "--Examining row 12 of test dataset... [ True]\n",
      "--Examining row 13 of test dataset... [ True]\n",
      "--Examining row 14 of test dataset... [ True]\n",
      "--Examining row 15 of test dataset... [ True]\n",
      "--Examining row 16 of test dataset... [ True]\n",
      "--Examining row 17 of test dataset... [ True]\n",
      "--Examining row 18 of test dataset... [ True]\n",
      "--Examining row 19 of test dataset... [ True]\n",
      "--Examining row 20 of test dataset... [ True]\n",
      "--Examining row 21 of test dataset... [ True]\n",
      "--Examining row 22 of test dataset... [ True]\n",
      "--Examining row 23 of test dataset... [ True]\n",
      "--Examining row 24 of test dataset... [ True]\n",
      "--Examining row 25 of test dataset... [ True]\n",
      "--Examining row 26 of test dataset... [ True]\n",
      "--Examining row 27 of test dataset... [ True]\n",
      "--Examining row 28 of test dataset... [ True]\n",
      "--Examining row 29 of test dataset... [ True]\n"
     ]
    }
   ],
   "source": [
    "for i in range(30):\n",
    "    sklearn_predicted_y = sklearn_clf.predict(X_test[i].reshape(1, -1))\n",
    "    my_predicted_y = my_clf.predict(X_test[i].reshape(1, -1))\n",
    "    print(\"--Examining row %i of test dataset... %s\" % (i, sklearn_predicted_y == my_predicted_y))"
   ]
  }
 ],
 "metadata": {
  "kernelspec": {
   "display_name": "Python 3",
   "language": "python",
   "name": "python3"
  },
  "language_info": {
   "codemirror_mode": {
    "name": "ipython",
    "version": 3
   },
   "file_extension": ".py",
   "mimetype": "text/x-python",
   "name": "python",
   "nbconvert_exporter": "python",
   "pygments_lexer": "ipython3",
   "version": "3.7.4"
  }
 },
 "nbformat": 4,
 "nbformat_minor": 2
}
