{
 "cells": [
  {
   "cell_type": "markdown",
   "metadata": {},
   "source": [
    "# Setup"
   ]
  },
  {
   "cell_type": "code",
   "execution_count": 1,
   "metadata": {},
   "outputs": [],
   "source": [
    "from sklearn import datasets\n",
    "from sklearn.linear_model import LinearRegression\n",
    "from sklearn.model_selection import train_test_split\n",
    "from sklearn.preprocessing import normalize\n",
    "\n",
    "import numpy as np\n",
    "import sys\n",
    "\n",
    "sys.path.append('../')"
   ]
  },
  {
   "cell_type": "code",
   "execution_count": 2,
   "metadata": {},
   "outputs": [],
   "source": [
    "# TODO: import\n",
    "from splearn.linear_model import SimpleLinearRegression"
   ]
  },
  {
   "cell_type": "markdown",
   "metadata": {},
   "source": [
    "# Dataset"
   ]
  },
  {
   "cell_type": "code",
   "execution_count": 3,
   "metadata": {},
   "outputs": [],
   "source": [
    "diabetes_dataset = datasets.load_diabetes()\n",
    "X = normalize(diabetes_dataset['data'])\n",
    "y = diabetes_dataset['target']\n",
    "X_train, X_test, y_train, y_test = train_test_split(X, y, test_size=0.2, random_state=0)"
   ]
  },
  {
   "cell_type": "code",
   "execution_count": 4,
   "metadata": {},
   "outputs": [
    {
     "data": {
      "text/plain": [
       "array([[ 0.32100597,  0.42726811,  0.52014127, ..., -0.02185454,\n",
       "         0.16784162, -0.14876892],\n",
       "       [-0.01166166, -0.27661579, -0.31895198, ..., -0.24471534,\n",
       "        -0.4233959 , -0.57132977],\n",
       "       [ 0.6574065 ,  0.39059633,  0.34258958, ..., -0.0199788 ,\n",
       "         0.02207134, -0.1998475 ],\n",
       "       ...,\n",
       "       [ 0.42500219,  0.51642207, -0.1620822 , ..., -0.11289848,\n",
       "        -0.47769422,  0.15784799],\n",
       "       [-0.4486945 , -0.44049627,  0.38544135, ...,  0.26207406,\n",
       "         0.43937866, -0.25586467],\n",
       "       [-0.19283439, -0.18931106, -0.30969841, ..., -0.16747894,\n",
       "        -0.01789509,  0.01299519]])"
      ]
     },
     "execution_count": 4,
     "metadata": {},
     "output_type": "execute_result"
    }
   ],
   "source": [
    "X"
   ]
  },
  {
   "cell_type": "markdown",
   "metadata": {},
   "source": [
    "# scikit-learn implementation"
   ]
  },
  {
   "cell_type": "code",
   "execution_count": 5,
   "metadata": {},
   "outputs": [
    {
     "data": {
      "text/plain": [
       "LinearRegression(copy_X=True, fit_intercept=True, n_jobs=None, normalize=False)"
      ]
     },
     "execution_count": 5,
     "metadata": {},
     "output_type": "execute_result"
    }
   ],
   "source": [
    "sklearn_clf = LinearRegression(fit_intercept=True,\n",
    "                               normalize=False,\n",
    "                               copy_X=True)\n",
    "sklearn_clf.fit(X_train, y_train)"
   ]
  },
  {
   "cell_type": "code",
   "execution_count": 6,
   "metadata": {},
   "outputs": [
    {
     "name": "stdout",
     "output_type": "stream",
     "text": [
      "Train R^2: 0.5475828671286389\n",
      "Test R^2: 0.29393257447748\n",
      "First 3 Coefficients: [ -2.66124073 -30.93607012  84.31072006]\n",
      "Last 3 Coefficients: [39.62071238 82.56911657  9.7183491 ]\n",
      "Intercept: 154.6599304907271\n"
     ]
    }
   ],
   "source": [
    "print(\"Train R^2:\", sklearn_clf.score(X_train, y_train))\n",
    "print(\"Test R^2:\", sklearn_clf.score(X_test, y_test))\n",
    "print(\"First 3 Coefficients:\", sklearn_clf.coef_[:3])\n",
    "print(\"Last 3 Coefficients:\", sklearn_clf.coef_[-3:])\n",
    "print(\"Intercept:\", sklearn_clf.intercept_)"
   ]
  },
  {
   "cell_type": "markdown",
   "metadata": {},
   "source": [
    "# Simple Python implementation"
   ]
  },
  {
   "cell_type": "code",
   "execution_count": 7,
   "metadata": {},
   "outputs": [
    {
     "data": {
      "text/plain": [
       "(353, 10)"
      ]
     },
     "execution_count": 7,
     "metadata": {},
     "output_type": "execute_result"
    }
   ],
   "source": [
    "X_train.shape"
   ]
  },
  {
   "cell_type": "code",
   "execution_count": 8,
   "metadata": {},
   "outputs": [],
   "source": [
    "class SimpleLinearRegression():\n",
    "    def fit(self, X, y, method='closed'):\n",
    "        n, p = X.shape\n",
    "        X = np.concatenate([X, np.ones((n, 1))], axis=1)\n",
    "        \n",
    "        if method == 'closed':\n",
    "            beta = np.linalg.inv(X.T.dot(X)).dot(X.T).dot(y)\n",
    "            \n",
    "            \n",
    "        elif method == 'gd': \n",
    "            beta = np.random.uniform(low=-1.0, high=1.0, size=(p + 1, ))\n",
    "            learning_rate = 2e-3\n",
    "            for i in range(100000):\n",
    "                gradient = -2 * X.T.dot(y) + 2 * X.T.dot(X).dot(beta)\n",
    "                if i % 10000 == 0:\n",
    "                    print(\"Iter %i: Obj: %.5f; Norm of gradient: %.5f\" % (i, (y - X.dot(beta)).T.dot(y - X.dot(beta)), np.linalg.norm(gradient)))\n",
    "                beta = beta - learning_rate * gradient\n",
    "            \n",
    "        # TODO: sgd / mini-batch\n",
    "        \n",
    "        self.coef_ = beta[:-1]\n",
    "        self.intercept_ = beta[-1]\n",
    "            \n",
    "    def score(self, X, y):\n",
    "        y_bar_vec = np.mean(y) * np.ones((y.shape))\n",
    "        y_hat_vec = X.dot(self.coef_) + self.intercept_ * np.ones((y.shape))\n",
    "        \n",
    "        numerator = (y - y_hat_vec).T.dot(y - y_hat_vec)\n",
    "        denominator = (y - y_bar_vec).T.dot(y - y_bar_vec)\n",
    "        \n",
    "        return 1 - numerator / denominator\n",
    "        "
   ]
  },
  {
   "cell_type": "code",
   "execution_count": 9,
   "metadata": {},
   "outputs": [
    {
     "name": "stdout",
     "output_type": "stream",
     "text": [
      "=====Closed Form=====\n",
      "Train R^2: 0.5475828671286389\n",
      "Test R^2: 0.29393257447748\n",
      "First 3 Coefficients: [ -2.66124073 -30.93607012  84.31072006]\n",
      "Last 3 Coefficients: [39.62071238 82.56911657  9.7183491 ]\n",
      "Intercept: 154.65993049072708\n"
     ]
    }
   ],
   "source": [
    "print('=====Closed Form=====')\n",
    "my_clf = SimpleLinearRegression()\n",
    "my_clf.fit(X_train, y_train, method='closed')\n",
    "print(\"Train R^2:\", my_clf.score(X_train, y_train))\n",
    "print(\"Test R^2:\", my_clf.score(X_test, y_test))\n",
    "print(\"First 3 Coefficients:\", my_clf.coef_[:3])\n",
    "print(\"Last 3 Coefficients:\", my_clf.coef_[-3:])\n",
    "print(\"Intercept:\", my_clf.intercept_)"
   ]
  },
  {
   "cell_type": "code",
   "execution_count": 10,
   "metadata": {
    "scrolled": true
   },
   "outputs": [
    {
     "name": "stdout",
     "output_type": "stream",
     "text": [
      "=====Gradient Descent=====\n",
      "Iter 0: Obj: 10313302.73339; Norm of gradient: 108773.22398\n",
      "Iter 10000: Obj: 979092.32474; Norm of gradient: 0.00027\n",
      "Iter 20000: Obj: 979092.32474; Norm of gradient: 0.00000\n",
      "Iter 30000: Obj: 979092.32474; Norm of gradient: 0.00000\n",
      "Iter 40000: Obj: 979092.32474; Norm of gradient: 0.00000\n",
      "Iter 50000: Obj: 979092.32474; Norm of gradient: 0.00000\n",
      "Iter 60000: Obj: 979092.32474; Norm of gradient: 0.00000\n",
      "Iter 70000: Obj: 979092.32474; Norm of gradient: 0.00000\n",
      "Iter 80000: Obj: 979092.32474; Norm of gradient: 0.00000\n",
      "Iter 90000: Obj: 979092.32474; Norm of gradient: 0.00000\n",
      "Train R^2: 0.5475828671286389\n",
      "Test R^2: 0.2939325744774798\n",
      "First 3 Coefficients: [ -2.66124073 -30.93607012  84.31072006]\n",
      "Last 3 Coefficients: [39.62071238 82.56911657  9.7183491 ]\n",
      "Intercept: 154.65993049072713\n"
     ]
    }
   ],
   "source": [
    "print('=====Gradient Descent=====')\n",
    "my_clf = SimpleLinearRegression()\n",
    "my_clf.fit(X_train, y_train, method='gd')\n",
    "print(\"Train R^2:\", my_clf.score(X_train, y_train))\n",
    "print(\"Test R^2:\", my_clf.score(X_test, y_test))\n",
    "print(\"First 3 Coefficients:\", my_clf.coef_[:3])\n",
    "print(\"Last 3 Coefficients:\", my_clf.coef_[-3:])\n",
    "print(\"Intercept:\", my_clf.intercept_)"
   ]
  }
 ],
 "metadata": {
  "kernelspec": {
   "display_name": "Python 3",
   "language": "python",
   "name": "python3"
  },
  "language_info": {
   "codemirror_mode": {
    "name": "ipython",
    "version": 3
   },
   "file_extension": ".py",
   "mimetype": "text/x-python",
   "name": "python",
   "nbconvert_exporter": "python",
   "pygments_lexer": "ipython3",
   "version": "3.7.4"
  }
 },
 "nbformat": 4,
 "nbformat_minor": 2
}
